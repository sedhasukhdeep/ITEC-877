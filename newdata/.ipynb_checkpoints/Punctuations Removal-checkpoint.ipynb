{
 "cells": [
  {
   "cell_type": "code",
   "execution_count": null,
   "metadata": {},
   "outputs": [],
   "source": [
    "## Education ##"
   ]
  },
  {
   "cell_type": "code",
   "execution_count": 3,
   "metadata": {},
   "outputs": [
    {
     "name": "stdout",
     "output_type": "stream",
     "text": [
      "Education is the process of facilitating learning or the acquisition of knowledge skills values beliefs and habits Educational methods include storytelling discussion teaching training and directed research Education frequently takes place under the guidance of educators however learners may also educate themselves  Education can take place in formal or informal settings and any experience that has a formative effect on the way one thinks feels or acts may be considered educational The methodology of teaching is called pedagogy Formal education is commonly divided formally into such stages as preschool or kindergarten primary school secondary school and then college university or apprenticeshipA right to education has been recognized by some governments and the United Nations In most regions education is compulsory up to a certain age There is a movement for education reform and in particular for the of evidencebased education\n"
     ]
    },
    {
     "data": {
      "text/plain": [
       "140"
      ]
     },
     "execution_count": 3,
     "metadata": {},
     "output_type": "execute_result"
    }
   ],
   "source": [
    "# define punctuation\n",
    "punctuations = '''!()-[]{};:'\"\\,<>./?@#$%^&*_~'''\n",
    "\n",
    "my_str = \"Education is the process of facilitating learning, or the acquisition of knowledge, skills, values, beliefs, and habits. Educational methods include storytelling, discussion, teaching, training, and directed research. Education frequently takes place under the guidance of educators, however learners may also educate themselves.  Education can take place in formal or informal settings and any experience that has a formative effect on the way one thinks, feels, or acts may be considered educational. The methodology of teaching is called pedagogy. Formal education is commonly divided formally into such stages as preschool or kindergarten, primary school, secondary school and then college, university, or apprenticeship.A right to education has been recognized by some governments and the United Nations. In most regions, education is compulsory up to a certain age. There is a movement for education reform, and in particular for the of evidence-based education.\"\n",
    "\n",
    "# To take input from the user\n",
    "# my_str = input(\"Enter a string: \")\n",
    "\n",
    "# remove punctuation from the string\n",
    "no_punct1 = \"\"\n",
    "for char in my_str:\n",
    "   if char not in punctuations:\n",
    "       no_punct1 = no_punct1 + char\n",
    "\n",
    "# display the unpunctuated string\n",
    "print(no_punct1)\n",
    "len(no_punct1.split())"
   ]
  },
  {
   "cell_type": "code",
   "execution_count": 4,
   "metadata": {},
   "outputs": [
    {
     "name": "stdout",
     "output_type": "stream",
     "text": [
      "Education began in prehistory as adults trained the young in the knowledge and skills deemed necessary in their society In preliterate societies this was achieved orally and through imitation Storytelling passed knowledge values and skills from one generation to the next As cultures began to extend their knowledge beyond skills that could be readily learned through imitation formal education developed Schools existed in Egypt at the time of the Middle Kingdom Plato founded the Academy in Athens the first institution of higher learning in Europe The city of Alexandria in Egypt established in 330 BCE became the successor to Athens as the intellectual cradle of Ancient Greece There the great Library of Alexandria was built in the 3rd century BCE European civilizations suffered a collapse of literacy and organization following the fall of Rome in CE 476In China Confucius 551–479 BCE of the State of Lu was the countrys most influential ancient philosopher whose educational outlook continues to influence the societies of China and neighbours like Korea Japan and Vietnam Confucius gathered disciples and searched in vain for a ruler who would adopt his ideals for good governance but his Analects were written down by followers and have continued to influence education in East Asia into the modern eraThe Aztecs also had a welldeveloped theory about education which has an equivalent word in Nahuatl called tlacahuapahualiztli It means the art of raising or educating a person\n"
     ]
    },
    {
     "data": {
      "text/plain": [
       "236"
      ]
     },
     "execution_count": 4,
     "metadata": {},
     "output_type": "execute_result"
    }
   ],
   "source": [
    "# define punctuation\n",
    "punctuations = '''!()-[]{};:'\"\\,<>./?@#$%^&*_~'''\n",
    "\n",
    "my_str = \"Education began in prehistory, as adults trained the young in the knowledge and skills deemed necessary in their society. In pre-literate societies, this was achieved orally and through imitation. Story-telling passed knowledge, values, and skills from one generation to the next. As cultures began to extend their knowledge beyond skills that could be readily learned through imitation, formal education developed. Schools existed in Egypt at the time of the Middle Kingdom. Plato founded the Academy in Athens, the first institution of higher learning in Europe. The city of Alexandria in Egypt, established in 330 BCE, became the successor to Athens as the intellectual cradle of Ancient Greece. There, the great Library of Alexandria was built in the 3rd century BCE. European civilizations suffered a collapse of literacy and organization following the fall of Rome in CE 476.In China, Confucius (551–479 BCE), of the State of Lu, was the country's most influential ancient philosopher, whose educational outlook continues to influence the societies of China and neighbours like Korea, Japan, and Vietnam. Confucius gathered disciples and searched in vain for a ruler who would adopt his ideals for good governance, but his Analects were written down by followers and have continued to influence education in East Asia into the modern era.The Aztecs also had a well-developed theory about education, which has an equivalent word in Nahuatl called tlacahuapahualiztli. It means the art of raising or educating a person\" or \"the art of strengthening or bringing up men. This was a broad conceptualization of education, which prescribed that it begins at home, supported by formal schooling, and reinforced by community living. Historians cite that formal education was mandatory for everyone regardless of social class and gender. There was also the word neixtlamachiliztli, which is the act of giving wisdom to the face. These concepts underscore a complex set of educational practices, which was oriented towards communicating to the next generation the experience and intellectual heritage of the past for the purpose of individual development and his integration into the community.After the Fall of Rome, the Catholic Church became the sole preserver of literate scholarship in Western Europe. The church established cathedral schools in the Early Middle Ages as centres of advanced education. Some of these establishments ultimately evolved into medieval universities and forebears of many of Europe's modern universities. During the High Middle Ages, Chartres Cathedral operated the famous and influential Chartres Cathedral School. The medieval universities of Western Christendom were well-integrated across all of Western Europe, encouraged freedom of inquiry, and produced a great variety of fine scholars and natural philosophers, including Thomas Aquinas of the University of Naples, Robert Grosseteste of the University of Oxford, an early expositor of a systematic method of scientific experimentation, and Saint Albert the Great, a pioneer of biological field research. Founded in 1088, the University of Bologne is considered the first, and the oldest continually operating university.Elsewhere during the Middle Ages, Islamic science and mathematics flourished under the Islamic caliphate which was established across the Middle East, extending from the Iberian Peninsula in the west to the Indus in the east and to the Almoravid Dynasty and Mali Empire in the south. The Renaissance in Europe ushered in a new age of scientific and intellectual inquiry and appreciation of ancient Greek and Roman civilizations. Around 1450, Johannes Gutenberg developed a printing press, which allowed works of literature to spread more quickly. The European Age of Empires saw European ideas of education in philosophy, religion, arts and sciences spread out across the globe. Missionaries and scholars also brought back new ideas from other civilizations – as with the Jesuit China missions who played a significant role in the transmission of knowledge, science, and culture between China and Europe, translating works from Europe like Euclid's Elements for Chinese scholars and the thoughts of Confucius for European audiences. The Enlightenment saw the emergence of a more secular educational outlook in Europe. In most countries today, full-time education, whether at school or otherwise, is compulsory for all children up to a certain age. Due to this the proliferation of compulsory education, combined with population growth, UNESCO has calculated that in the next 30 years more people will receive formal education than in all of human history thus far.\"\n",
    "\n",
    "\n",
    "# To take input from the user\n",
    "# my_str = input(\"Enter a string: \")\n",
    "\n",
    "# remove punctuation from the string\n",
    "no_punct2 = \"\"\n",
    "for char in my_str:\n",
    "   if char not in punctuations:\n",
    "       no_punct2 = no_punct2 + char\n",
    "\n",
    "# display the unpunctuated string\n",
    "print(no_punct2)\n",
    "len(no_punct2.split())"
   ]
  },
  {
   "cell_type": "code",
   "execution_count": 5,
   "metadata": {},
   "outputs": [
    {
     "name": "stdout",
     "output_type": "stream",
     "text": [
      "Many large university institutions are now starting to offer free or almost free full courses such as Harvard MIT and Berkeley teaming up to form edX Other universities offering open education are prestigious private universities such as Stanford Princeton Duke Johns Hopkins the University of Pennylvania and Caltech as well as notable public universities including Tsinghua Peking Edinburgh University of Michigan and University of Virginia Open education has been called the biggest change in the way people learn since the printing press Despite favourable studies on effectiveness many people may still desire to choose traditional campus education for social and cultural reasonsMany open universities are working to have the ability to offer students standardized testing and traditional degrees and credentialsThe conventional meritsystem degree is currently not as common in open education as it is in campus universities although some open universities do already offer conventional degrees such as the Open University in the United Kingdom Presently many of the major open education sources offer their own form of certificate Due to the popularity of open education these new kind of academic certificates are gaining more respect and equal academic value to traditional degreesOut of 182 colleges surveyed in 2009 nearly half said tuition for online courses was higher than for campusbased onesA recent metaanalysis found that online and blended educational approaches had better outcomes than methods that used solely facetoface interaction\n"
     ]
    },
    {
     "data": {
      "text/plain": [
       "231"
      ]
     },
     "execution_count": 5,
     "metadata": {},
     "output_type": "execute_result"
    }
   ],
   "source": [
    "# define punctuation\n",
    "punctuations = '''!()-[]{};:'\"\\,<>./?@#$%^&*_~'''\n",
    "\n",
    "my_str = \"Many large university institutions are now starting to offer free or almost free full courses such as Harvard, MIT and Berkeley teaming up to form edX. Other universities offering open education are prestigious private universities such as Stanford, Princeton, Duke, Johns Hopkins, the University of Pennylvania, and Caltech, as well as notable public universities including Tsinghua, Peking, Edinburgh, University of Michigan, and University of Virginia. Open education has been called the biggest change in the way people learn since the printing press. Despite favourable studies on effectiveness, many people may still desire to choose traditional campus education for social and cultural reasons.Many open universities are working to have the ability to offer students standardized testing and traditional degrees and credentials.The conventional merit-system degree is currently not as common in open education as it is in campus universities, although some open universities do already offer conventional degrees such as the Open University in the United Kingdom. Presently, many of the major open education sources offer their own form of certificate. Due to the popularity of open education, these new kind of academic certificates are gaining more respect and equal academic value to traditional degrees.Out of 182 colleges surveyed in 2009 nearly half said tuition for online courses was higher than for campus-based ones.A recent meta-analysis found that online and blended educational approaches had better outcomes than methods that used solely face-to-face interaction.\"\n",
    "\n",
    "\n",
    "# To take input from the user\n",
    "# my_str = input(\"Enter a string: \")\n",
    "\n",
    "# remove punctuation from the string\n",
    "no_punct3 = \"\"\n",
    "for char in my_str:\n",
    "   if char not in punctuations:\n",
    "       no_punct3 = no_punct3 + char\n",
    "\n",
    "# display the unpunctuated string\n",
    "print(no_punct3)\n",
    "len(no_punct3.split())"
   ]
  },
  {
   "cell_type": "code",
   "execution_count": 6,
   "metadata": {},
   "outputs": [
    {
     "name": "stdout",
     "output_type": "stream",
     "text": [
      "The education sector or education system is a group of institutions ministries of education local educational authorities teacher training institutions schools universities etc whose primary purpose is to provide education to children and young people in educational settings It involves a wide range of people curriculum developers inspectors school principals teachers school nurses students etc These institutions can vary according to different contexts Schools deliver education with support from the rest of the education system through various elements such as education policies and guidelines to which school policies can refer curricula and learning materials as well as pre and in service teacher training programmes The school environment both physical infrastructures and psychological school climate is also guided by school policies that should ensure the well being of students when they are in school The Organisation for Economic Cooperation and Development has found that schools tend to perform best when principals have full authority and responsibility for ensuring that students are proficient in core subjects upon graduation They must also seek feedback from students for qualityassurance and improvement Governments should limit themselves to monitoring student proficiencyThe education sector is fully integrated into society through interactions with a large number of stakeholders and other sectors These include parents local communities religious leaders NGOs stakeholders involved in health child protection justice and law enforcement police media and political leadershipSeveral UN agencies have asserted that comprehensive sexuality education should be integrated into school curriculum\n"
     ]
    },
    {
     "data": {
      "text/plain": [
       "240"
      ]
     },
     "execution_count": 6,
     "metadata": {},
     "output_type": "execute_result"
    }
   ],
   "source": [
    "# define punctuation\n",
    "punctuations = '''!()-[]{};:'\"\\,<>./?@#$%^&*_~'''\n",
    "\n",
    "my_str = \"The education sector or education system is a group of institutions (ministries of education, local educational authorities, teacher training institutions, schools, universities, etc.) whose primary purpose is to provide education to children and young people in educational settings. It involves a wide range of people (curriculum developers, inspectors, school principals, teachers, school nurses, students, etc.). These institutions can vary according to different contexts. Schools deliver education, with support from the rest of the education system through various elements such as education policies and guidelines to which school policies can refer curricula and learning materials, as well as pre and in service teacher training programmes. The school environment both physical (infrastructures) and psychological (school climate) is also guided by school policies that should ensure the well being of students when they are in school. The Organisation for Economic Cooperation and Development has found that schools tend to perform best when principals have full authority and responsibility for ensuring that students are proficient in core subjects upon graduation. They must also seek feedback from students for quality-assurance and improvement. Governments should limit themselves to monitoring student proficiency.The education sector is fully integrated into society, through interactions with a large number of stakeholders and other sectors. These include parents, local communities, religious leaders, NGOs, stakeholders involved in health, child protection, justice and law enforcement (police), media and political leadership.Several UN agencies have asserted that comprehensive sexuality education should be integrated into school curriculum.\"\n",
    "\n",
    "# To take input from the user\n",
    "# my_str = input(\"Enter a string: \")\n",
    "\n",
    "# remove punctuation from the string\n",
    "no_punct4 = \"\"\n",
    "for char in my_str:\n",
    "   if char not in punctuations:\n",
    "       no_punct4 = no_punct4 + char\n",
    "\n",
    "# display the unpunctuated string\n",
    "print(no_punct4)\n",
    "len(no_punct4.split())"
   ]
  },
  {
   "cell_type": "code",
   "execution_count": 7,
   "metadata": {},
   "outputs": [
    {
     "name": "stdout",
     "output_type": "stream",
     "text": [
      "Educational psychology is the study of how humans learn in educational settings the effectiveness of educational interventions the psychology of teaching and the social psychology of schools as organizations Although the terms educational psychology and school psychology are often used interchangeably researchers and theorists are likely to be identified as educational psychologists whereas practitioners in schools or schoolrelated settings are identified as school psychologists Educational psychology is concerned with the processes of educational attainment in the general population and in subpopulations such as gifted children and those with specific disabilities Educational psychology can in part be understood through its relationship with other disciplines It is informed primarily by psychology bearing a relationship to that discipline analogous to the relationship between medicine and biology Educational psychology in turn informs a wide range of specialties within educational studies including instructional design educational technology curriculum development organizational learning special education and classroom management Educational psychology both draws from and contributes to cognitive science and the learning sciences In universities departments of educational psychology are usually housed within faculties of education possibly accounting for the lack of representation of educational psychology content in introductory psychology textbooks Lucas Blazek  Raley 2006\n"
     ]
    },
    {
     "data": {
      "text/plain": [
       "196"
      ]
     },
     "execution_count": 7,
     "metadata": {},
     "output_type": "execute_result"
    }
   ],
   "source": [
    "# define punctuation\n",
    "punctuations = '''!()-[]{};:'\"\\,<>./?@#$%^&*_~'''\n",
    "\n",
    "my_str = \"Educational psychology is the study of how humans learn in educational settings, the effectiveness of educational interventions, the psychology of teaching, and the social psychology of schools as organizations. Although the terms educational psychology and school psychology are often used interchangeably, researchers and theorists are likely to be identified as educational psychologists, whereas practitioners in schools or school-related settings are identified as school psychologists. Educational psychology is concerned with the processes of educational attainment in the general population and in sub-populations such as gifted children and those with specific disabilities. Educational psychology can in part be understood through its relationship with other disciplines. It is informed primarily by psychology, bearing a relationship to that discipline analogous to the relationship between medicine and biology. Educational psychology, in turn, informs a wide range of specialties within educational studies, including instructional design, educational technology, curriculum development, organizational learning, special education and classroom management. Educational psychology both draws from and contributes to cognitive science and the learning sciences. In universities, departments of educational psychology are usually housed within faculties of education, possibly accounting for the lack of representation of educational psychology content in introductory psychology textbooks (Lucas, Blazek, & Raley, 2006).\"\n",
    "\n",
    "\n",
    "# To take input from the user\n",
    "# my_str = input(\"Enter a string: \")\n",
    "\n",
    "# remove punctuation from the string\n",
    "no_punct5 = \"\"\n",
    "for char in my_str:\n",
    "   if char not in punctuations:\n",
    "       no_punct5 = no_punct5 + char\n",
    "\n",
    "# display the unpunctuated string\n",
    "print(no_punct5)\n",
    "len(no_punct5.split())"
   ]
  },
  {
   "cell_type": "code",
   "execution_count": 8,
   "metadata": {},
   "outputs": [
    {
     "name": "stdout",
     "output_type": "stream",
     "text": [
      "or the art of strengthening or bringing up men This was a broad conceptualization of education which prescribed that it begins at home supported by formal schooling and reinforced by community living Historians cite that formal education was mandatory for everyone regardless of social class and gender There was also the word neixtlamachiliztli which is the act of giving wisdom to the face These concepts underscore a complex set of educational practices which was oriented towards communicating to the next generation the experience and intellectual heritage of the past for the purpose of individual development and his integration into the communityAfter the Fall of Rome the Catholic Church became the sole preserver of literate scholarship in Western Europe The church established cathedral schools in the Early Middle Ages as centres of advanced education Some of these establishments ultimately evolved into medieval universities and forebears of many of Europes modern universities During the High Middle Ages Chartres Cathedral operated the famous and influential Chartres Cathedral School The medieval universities of Western Christendom were wellintegrated across all of Western Europe encouraged freedom of inquiry and produced a great variety of fine scholars and natural philosophers including Thomas Aquinas of the University of Naples Robert Grosseteste of the University of Oxford an early expositor of a systematic method of scientific experimentation and Saint Albert the Great a pioneer of biological field research Founded in 1088 the University of Bologne is considered the first and the oldest continually operating universityElsewhere during the Middle Ages Islamic science and mathematics flourished under the Islamic caliphate which was established across the Middle East extending from the Iberian Peninsula in the west to the Indus in the east and to the Almoravid Dynasty and Mali Empire in the south The Renaissance in Europe ushered in a new age of scientific and intellectual inquiry and appreciation of ancient Greek and Roman civilizations Around 1450 Johannes Gutenberg developed a printing press which allowed works of literature to spread more quickly The European Age of Empires saw European ideas of education in philosophy religion arts and sciences spread out across the globe Missionaries and scholars also brought back new ideas from other civilizations – as with the Jesuit China missions who played a significant role in the transmission of knowledge science and culture between China and Europe translating works from Europe like Euclids Elements for Chinese scholars and the thoughts of Confucius for European audiences The Enlightenment saw the emergence of a more secular educational outlook in Europe In most countries today fulltime education whether at school or otherwise is compulsory for all children up to a certain age Due to this the proliferation of compulsory education combined with population growth UNESCO has calculated that in the next 30 years more people will receive formal education than in all of human history thus far\n"
     ]
    },
    {
     "data": {
      "text/plain": [
       "473"
      ]
     },
     "execution_count": 8,
     "metadata": {},
     "output_type": "execute_result"
    }
   ],
   "source": [
    "# define punctuation\n",
    "punctuations = '''!()-[]{};:'\"\\,<>./?@#$%^&*_~'''\n",
    "\n",
    "my_str = \"or the art of strengthening or bringing up men. This was a broad conceptualization of education, which prescribed that it begins at home, supported by formal schooling, and reinforced by community living. Historians cite that formal education was mandatory for everyone regardless of social class and gender. There was also the word neixtlamachiliztli, which is the act of giving wisdom to the face. These concepts underscore a complex set of educational practices, which was oriented towards communicating to the next generation the experience and intellectual heritage of the past for the purpose of individual development and his integration into the community.After the Fall of Rome, the Catholic Church became the sole preserver of literate scholarship in Western Europe. The church established cathedral schools in the Early Middle Ages as centres of advanced education. Some of these establishments ultimately evolved into medieval universities and forebears of many of Europe's modern universities. During the High Middle Ages, Chartres Cathedral operated the famous and influential Chartres Cathedral School. The medieval universities of Western Christendom were well-integrated across all of Western Europe, encouraged freedom of inquiry, and produced a great variety of fine scholars and natural philosophers, including Thomas Aquinas of the University of Naples, Robert Grosseteste of the University of Oxford, an early expositor of a systematic method of scientific experimentation, and Saint Albert the Great, a pioneer of biological field research. Founded in 1088, the University of Bologne is considered the first, and the oldest continually operating university.Elsewhere during the Middle Ages, Islamic science and mathematics flourished under the Islamic caliphate which was established across the Middle East, extending from the Iberian Peninsula in the west to the Indus in the east and to the Almoravid Dynasty and Mali Empire in the south. The Renaissance in Europe ushered in a new age of scientific and intellectual inquiry and appreciation of ancient Greek and Roman civilizations. Around 1450, Johannes Gutenberg developed a printing press, which allowed works of literature to spread more quickly. The European Age of Empires saw European ideas of education in philosophy, religion, arts and sciences spread out across the globe. Missionaries and scholars also brought back new ideas from other civilizations – as with the Jesuit China missions who played a significant role in the transmission of knowledge, science, and culture between China and Europe, translating works from Europe like Euclid's Elements for Chinese scholars and the thoughts of Confucius for European audiences. The Enlightenment saw the emergence of a more secular educational outlook in Europe. In most countries today, full-time education, whether at school or otherwise, is compulsory for all children up to a certain age. Due to this the proliferation of compulsory education, combined with population growth, UNESCO has calculated that in the next 30 years more people will receive formal education than in all of human history thus far.\"\n",
    "\n",
    "# To take input from the user\n",
    "# my_str = input(\"Enter a string: \")\n",
    "\n",
    "# remove punctuation from the string\n",
    "no_punct6 = \"\"\n",
    "for char in my_str:\n",
    "   if char not in punctuations:\n",
    "       no_punct6 = no_punct6 + char\n",
    "\n",
    "# display the unpunctuated string\n",
    "print(no_punct6)\n",
    "len(no_punct6.split())"
   ]
  },
  {
   "cell_type": "code",
   "execution_count": 13,
   "metadata": {},
   "outputs": [
    {
     "name": "stdout",
     "output_type": "stream",
     "text": [
      "Formal education occurs in a structured environment whose explicit purpose is teaching students Usually formal education takes place in a school environment with classrooms of multiple students learning together with a trained certified teacher of the subject Most school systems are designed around a set of values or ideals that govern all educational choices in that system Such choices include curriculum organizational models design of the physical learning spaces eg classrooms studentteacher interactions methods of assessment class size educational activities and more\n"
     ]
    },
    {
     "data": {
      "text/plain": [
       "82"
      ]
     },
     "execution_count": 13,
     "metadata": {},
     "output_type": "execute_result"
    }
   ],
   "source": [
    "# define punctuation\n",
    "punctuations = '''!()-[]{};:'\"\\,<>./?@#$%^&*_~'''\n",
    "\n",
    "my_str = \"Preschools provide education from ages approximately three to seven, depending on the country when children enter primary education. These are also known as nursery schools and as kindergarten, except in the US, where the term kindergarten refers to the earliest levels of primary education. Kindergarten provide[s] a child-centred, preschool curriculum for three- to seven-year-old children that aim[s] at unfolding the child's physical, intellectual, and moral nature with balanced emphasis on each of them.\"\n",
    "\n",
    "# To take input from the user\n",
    "# my_str = input(\"Enter a string: \")\n",
    "\n",
    "# remove punctuation from the string\n",
    "no_punct7 = \"\"\n",
    "for char in my_str:\n",
    "   if char not in punctuations:\n",
    "       no_punct7 = no_punct7 + char\n",
    "\n",
    "# display the unpunctuated string\n",
    "print(no_punct7)\n",
    "len(no_punct7.split())"
   ]
  },
  {
   "cell_type": "code",
   "execution_count": null,
   "metadata": {},
   "outputs": [],
   "source": [
    "# define punctuation\n",
    "punctuations = '''!()-[]{};:'\"\\,<>./?@#$%^&*_~'''\n",
    "\n",
    "my_str = \"Formal education occurs in a structured environment whose explicit purpose is teaching students. Usually, formal education takes place in a school environment with classrooms of multiple students learning together with a trained, certified teacher of the subject. Most school systems are designed around a set of values or ideals that govern all educational choices in that system. Such choices include curriculum, organizational models, design of the physical learning spaces (e.g. classrooms), student-teacher interactions, methods of assessment, class size, educational activities, and more.\"\n",
    "\n",
    "# To take input from the user\n",
    "# my_str = input(\"Enter a string: \")\n",
    "\n",
    "# remove punctuation from the string\n",
    "no_punct7 = \"\"\n",
    "for char in my_str:\n",
    "   if char not in punctuations:\n",
    "       no_punct7 = no_punct7 + char\n",
    "\n",
    "# display the unpunctuated string\n",
    "print(no_punct7)\n",
    "len(no_punct7.split())"
   ]
  },
  {
   "cell_type": "code",
   "execution_count": 16,
   "metadata": {},
   "outputs": [
    {
     "name": "stdout",
     "output_type": "stream",
     "text": [
      "======\n",
      "Education is the process of facilitating learning or the acquisition of knowledge skills values beliefs and habits Educational methods include storytelling discussion teaching training and directed research Education frequently takes place under the guidance of educators however learners may also educate themselves  Education can take place in formal or informal settings and any experience that has a formative effect on the way one thinks feels or acts may be considered educational The methodology of teaching is called pedagogy Formal education is commonly divided formally into such stages as preschool or kindergarten primary school secondary school and then college university or apprenticeshipA right to education has been recognized by some governments and the United Nations In most regions education is compulsory up to a certain age There is a movement for education reform and in particular for the of evidencebased education\n",
      "\n",
      "Education began in prehistory as adults trained the young in the knowledge and skills deemed necessary in their society In preliterate societies this was achieved orally and through imitation Storytelling passed knowledge values and skills from one generation to the next As cultures began to extend their knowledge beyond skills that could be readily learned through imitation formal education developed Schools existed in Egypt at the time of the Middle Kingdom Plato founded the Academy in Athens the first institution of higher learning in Europe The city of Alexandria in Egypt established in 330 BCE became the successor to Athens as the intellectual cradle of Ancient Greece There the great Library of Alexandria was built in the 3rd century BCE European civilizations suffered a collapse of literacy and organization following the fall of Rome in CE 476In China Confucius 551–479 BCE of the State of Lu was the countrys most influential ancient philosopher whose educational outlook continues to influence the societies of China and neighbours like Korea Japan and Vietnam Confucius gathered disciples and searched in vain for a ruler who would adopt his ideals for good governance but his Analects were written down by followers and have continued to influence education in East Asia into the modern eraThe Aztecs also had a welldeveloped theory about education which has an equivalent word in Nahuatl called tlacahuapahualiztli It means the art of raising or educating a person\n",
      "\n",
      "Many large university institutions are now starting to offer free or almost free full courses such as Harvard MIT and Berkeley teaming up to form edX Other universities offering open education are prestigious private universities such as Stanford Princeton Duke Johns Hopkins the University of Pennylvania and Caltech as well as notable public universities including Tsinghua Peking Edinburgh University of Michigan and University of Virginia Open education has been called the biggest change in the way people learn since the printing press Despite favourable studies on effectiveness many people may still desire to choose traditional campus education for social and cultural reasonsMany open universities are working to have the ability to offer students standardized testing and traditional degrees and credentialsThe conventional meritsystem degree is currently not as common in open education as it is in campus universities although some open universities do already offer conventional degrees such as the Open University in the United Kingdom Presently many of the major open education sources offer their own form of certificate Due to the popularity of open education these new kind of academic certificates are gaining more respect and equal academic value to traditional degreesOut of 182 colleges surveyed in 2009 nearly half said tuition for online courses was higher than for campusbased onesA recent metaanalysis found that online and blended educational approaches had better outcomes than methods that used solely facetoface interaction\n",
      "\n",
      "The education sector or education system is a group of institutions ministries of education local educational authorities teacher training institutions schools universities etc whose primary purpose is to provide education to children and young people in educational settings It involves a wide range of people curriculum developers inspectors school principals teachers school nurses students etc These institutions can vary according to different contexts Schools deliver education with support from the rest of the education system through various elements such as education policies and guidelines to which school policies can refer curricula and learning materials as well as pre and in service teacher training programmes The school environment both physical infrastructures and psychological school climate is also guided by school policies that should ensure the well being of students when they are in school The Organisation for Economic Cooperation and Development has found that schools tend to perform best when principals have full authority and responsibility for ensuring that students are proficient in core subjects upon graduation They must also seek feedback from students for qualityassurance and improvement Governments should limit themselves to monitoring student proficiencyThe education sector is fully integrated into society through interactions with a large number of stakeholders and other sectors These include parents local communities religious leaders NGOs stakeholders involved in health child protection justice and law enforcement police media and political leadershipSeveral UN agencies have asserted that comprehensive sexuality education should be integrated into school curriculum\n",
      "\n",
      "Educational psychology is the study of how humans learn in educational settings the effectiveness of educational interventions the psychology of teaching and the social psychology of schools as organizations Although the terms educational psychology and school psychology are often used interchangeably researchers and theorists are likely to be identified as educational psychologists whereas practitioners in schools or schoolrelated settings are identified as school psychologists Educational psychology is concerned with the processes of educational attainment in the general population and in subpopulations such as gifted children and those with specific disabilities Educational psychology can in part be understood through its relationship with other disciplines It is informed primarily by psychology bearing a relationship to that discipline analogous to the relationship between medicine and biology Educational psychology in turn informs a wide range of specialties within educational studies including instructional design educational technology curriculum development organizational learning special education and classroom management Educational psychology both draws from and contributes to cognitive science and the learning sciences In universities departments of educational psychology are usually housed within faculties of education possibly accounting for the lack of representation of educational psychology content in introductory psychology textbooks Lucas Blazek  Raley 2006or the art of strengthening or bringing up men This was a broad conceptualization of education which prescribed that it begins at home supported by formal schooling and reinforced by community living Historians cite that formal education was mandatory for everyone regardless of social class and gender There was also the word neixtlamachiliztli which is the act of giving wisdom to the face These concepts underscore a complex set of educational practices which was oriented towards communicating to the next generation the experience and intellectual heritage of the past for the purpose of individual development and his integration into the communityAfter the Fall of Rome the Catholic Church became the sole preserver of literate scholarship in Western Europe The church established cathedral schools in the Early Middle Ages as centres of advanced education Some of these establishments ultimately evolved into medieval universities and forebears of many of Europes modern universities During the High Middle Ages Chartres Cathedral operated the famous and influential Chartres Cathedral School The medieval universities of Western Christendom were wellintegrated across all of Western Europe encouraged freedom of inquiry and produced a great variety of fine scholars and natural philosophers including Thomas Aquinas of the University of Naples Robert Grosseteste of the University of Oxford an early expositor of a systematic method of scientific experimentation and Saint Albert the Great a pioneer of biological field research Founded in 1088 the University of Bologne is considered the first and the oldest continually operating universityElsewhere during the Middle Ages Islamic science and mathematics flourished under the Islamic caliphate which was established across the Middle East extending from the Iberian Peninsula in the west to the Indus in the east and to the Almoravid Dynasty and Mali Empire in the south The Renaissance in Europe ushered in a new age of scientific and intellectual inquiry and appreciation of ancient Greek and Roman civilizations Around 1450 Johannes Gutenberg developed a printing press which allowed works of literature to spread more quickly The European Age of Empires saw European ideas of education in philosophy religion arts and sciences spread out across the globe Missionaries and scholars also brought back new ideas from other civilizations – as with the Jesuit China missions who played a significant role in the transmission of knowledge science and culture between China and Europe translating works from Europe like Euclids Elements for Chinese scholars and the thoughts of Confucius for European audiences The Enlightenment saw the emergence of a more secular educational outlook in Europe In most countries today fulltime education whether at school or otherwise is compulsory for all children up to a certain age Due to this the proliferation of compulsory education combined with population growth UNESCO has calculated that in the next 30 years more people will receive formal education than in all of human history thus far\n",
      "\n",
      "Formal education occurs in a structured environment whose explicit purpose is teaching students Usually formal education takes place in a school environment with classrooms of multiple students learning together with a trained certified teacher of the subject Most school systems are designed around a set of values or ideals that govern all educational choices in that system Such choices include curriculum organizational models design of the physical learning spaces eg classrooms studentteacher interactions methods of assessment class size educational activities and more\n",
      "======\n"
     ]
    },
    {
     "data": {
      "text/plain": [
       "1599"
      ]
     },
     "execution_count": 16,
     "metadata": {},
     "output_type": "execute_result"
    }
   ],
   "source": [
    "punctuations = '''!()-[]{};:'\"\\,<>./?@#$%^&*_~'''\n",
    "\n",
    "new_string = \"======\" +'\\n'+ no_punct1 + '\\n' +'\\n' + no_punct2 + '\\n' +'\\n'+ no_punct3 + '\\n' +'\\n'+ no_punct4 + '\\n' +'\\n'+ no_punct5 + no_punct6 + '\\n' + '\\n'+ no_punct7 + '\\n'+ \"======\"\n",
    "\n",
    "# To take input from the user\n",
    "# my_str = input(\"Enter a string: \")\n",
    "\n",
    "# remove punctuation from the string\n",
    "no_punct = \"\"\n",
    "for char in new_string:\n",
    "   if char not in punctuations:\n",
    "       no_punct = no_punct + char\n",
    "\n",
    "# display the unpunctuated string\n",
    "print(no_punct)\n",
    "len(no_punct.split())"
   ]
  },
  {
   "cell_type": "code",
   "execution_count": 18,
   "metadata": {},
   "outputs": [],
   "source": [
    "## Technology ##"
   ]
  },
  {
   "cell_type": "code",
   "execution_count": 29,
   "metadata": {},
   "outputs": [
    {
     "name": "stdout",
     "output_type": "stream",
     "text": [
      "Technology science of craft from Greek τέχνη techne art skill cunning of hand and λογία logia is the collection of techniques skills methods and processes used in the production of goods or services or in the accomplishment of objectives such as scientific investigation Technology can be the knowledge of techniques processes and the like or it can be embedded in machines to allow for operation without detailed knowledge of their workings Systems e g machines applying technology by taking an input changing it according to the systems use and then producing an outcome are referred to as technology systems or technological systems\n"
     ]
    },
    {
     "data": {
      "text/plain": [
       "102"
      ]
     },
     "execution_count": 29,
     "metadata": {},
     "output_type": "execute_result"
    }
   ],
   "source": [
    "# define punctuation\n",
    "punctuations = '''!()-[]{};:'\"\\,<>./?@#$%^&*_~'''\n",
    "\n",
    "my_str = \"Technology science of craft, from Greek τέχνη, techne, art, skill, cunning of hand; and -λογία, -logia) is the collection of techniques, skills, methods, and processes used in the production of goods or services or in the accomplishment of objectives, such as scientific investigation. Technology can be the knowledge of techniques, processes, and the like, or it can be embedded in machines to allow for operation without detailed knowledge of their workings. Systems (e. g. machines) applying technology by taking an input, changing it according to the system's use, and then producing an outcome are referred to as technology systems or technological systems.\"\n",
    "\n",
    "# To take input from the user\n",
    "# my_str = input(\"Enter a string: \")\n",
    "\n",
    "# remove punctuation from the string\n",
    "no_punct1 = \"\"\n",
    "for char in my_str:\n",
    "   if char not in punctuations:\n",
    "       no_punct1 = no_punct1 + char\n",
    "\n",
    "# display the unpunctuated string\n",
    "print(no_punct1)\n",
    "len(no_punct1.split())"
   ]
  },
  {
   "cell_type": "code",
   "execution_count": 30,
   "metadata": {},
   "outputs": [
    {
     "name": "stdout",
     "output_type": "stream",
     "text": [
      "The simplest form of technology is the development and use of basic tools The prehistoric discovery of how to control fire and the later Neolithic Revolution increased the available sources of food and the invention of the wheel helped humans to travel in and control their environment Developments in historic times including the printing press the telephone and the Internet have lessened physical barriers to communication and allowed humans to interact freely on a global scale Technology has many effects It has helped develop more advanced economies including todays global economy and has allowed the rise of a leisure class Many technological processes produce unwanted byproducts known as pollution and deplete natural resources to the detriment of Earths environment Innovations have always influenced the values of a society and raised new questions in the ethics of technology Examples include the rise of the notion of efficiency in terms of human productivity and the challenges of bioethics\n"
     ]
    },
    {
     "data": {
      "text/plain": [
       "156"
      ]
     },
     "execution_count": 30,
     "metadata": {},
     "output_type": "execute_result"
    }
   ],
   "source": [
    "# define punctuation\n",
    "punctuations = '''!()-[]{};:'\"\\,<>./?@#$%^&*_~'''\n",
    "\n",
    "my_str = \"The simplest form of technology is the development and use of basic tools. The prehistoric discovery of how to control fire and the later Neolithic Revolution increased the available sources of food, and the invention of the wheel helped humans to travel in and control their environment. Developments in historic times, including the printing press, the telephone, and the Internet, have lessened physical barriers to communication and allowed humans to interact freely on a global scale. Technology has many effects. It has helped develop more advanced economies (including today's global economy) and has allowed the rise of a leisure class. Many technological processes produce unwanted by-products known as pollution and deplete natural resources to the detriment of Earth's environment. Innovations have always influenced the values of a society and raised new questions in the ethics of technology. Examples include the rise of the notion of efficiency in terms of human productivity, and the challenges of bioethics.\"\n",
    "\n",
    "# To take input from the user\n",
    "# my_str = input(\"Enter a string: \")\n",
    "\n",
    "# remove punctuation from the string\n",
    "no_punct2 = \"\"\n",
    "for char in my_str:\n",
    "   if char not in punctuations:\n",
    "       no_punct2 = no_punct2 + char\n",
    "\n",
    "# display the unpunctuated string\n",
    "print(no_punct2)\n",
    "len(no_punct2.split())"
   ]
  },
  {
   "cell_type": "code",
   "execution_count": 31,
   "metadata": {},
   "outputs": [
    {
     "name": "stdout",
     "output_type": "stream",
     "text": [
      "Philosophical debates have arisen over the use of technology with disagreements over whether technology improves the human condition or worsens it NeoLuddism anarchoprimitivism and similar reactionary movements criticize the pervasiveness of technology arguing that it harms the environment and alienates people proponents of ideologies such as transhumanism and technoprogressivism view continued technological progress as beneficial to society and the human condition\n"
     ]
    },
    {
     "data": {
      "text/plain": [
       "61"
      ]
     },
     "execution_count": 31,
     "metadata": {},
     "output_type": "execute_result"
    }
   ],
   "source": [
    "# define punctuation\n",
    "punctuations = '''!()-[]{};:'\"\\,<>./?@#$%^&*_~'''\n",
    "\n",
    "my_str = \"Philosophical debates have arisen over the use of technology, with disagreements over whether technology improves the human condition or worsens it. Neo-Luddism, anarcho-primitivism, and similar reactionary movements criticize the pervasiveness of technology, arguing that it harms the environment and alienates people; proponents of ideologies such as transhumanism and techno-progressivism view continued technological progress as beneficial to society and the human condition.\"\n",
    "\n",
    "# To take input from the user\n",
    "# my_str = input(\"Enter a string: \")\n",
    "\n",
    "# remove punctuation from the string\n",
    "no_punct3 = \"\"\n",
    "for char in my_str:\n",
    "   if char not in punctuations:\n",
    "       no_punct3 = no_punct3 + char\n",
    "\n",
    "# display the unpunctuated string\n",
    "print(no_punct3)\n",
    "len(no_punct3.split())"
   ]
  },
  {
   "cell_type": "code",
   "execution_count": 32,
   "metadata": {},
   "outputs": [
    {
     "name": "stdout",
     "output_type": "stream",
     "text": [
      "The use of the term technology has changed significantly over the last 200 years Before the 20th century the term was uncommon in English and it was used either to refer to the description or study of the useful arts or to allude to technical education as in the Massachusetts Institute of Technology chartered in 1861The term technology rose to prominence in the 20th century in connection with the Second Industrial Revolution The terms meanings changed in the early 20th century when American social scientists beginning with Thorstein Veblen translated ideas from the German concept of Technik into technology In German and other European languages a distinction exists between technik and technologie that is absent in English which usually translates both terms as technology By the 1930s technology referred not only to the study of the industrial arts but to the industrial arts themselvesIn 1937 the American sociologist Read Bain wrote that technology includes all tools machines utensils weapons instruments housing clothing communicating and transporting devices and the skills by which we produce and use them Bains definition remains common among scholars today especially social scientists  Scientists and engineers usually prefer to define technology as applied science rather than as the things that people make and use More recently scholars have borrowed from European philosophers of technique to extend the meaning of technology to various forms of instrumental reason as in Foucaults work on technologies of the self techniques de soi\n"
     ]
    },
    {
     "data": {
      "text/plain": [
       "241"
      ]
     },
     "execution_count": 32,
     "metadata": {},
     "output_type": "execute_result"
    }
   ],
   "source": [
    "# define punctuation\n",
    "punctuations = '''!()-[]{};:'\"\\,<>./?@#$%^&*_~'''\n",
    "\n",
    "my_str = \"The use of the term technology has changed significantly over the last 200 years. Before the 20th century, the term was uncommon in English, and it was used either to refer to the description or study of the useful arts or to allude to technical education, as in the Massachusetts Institute of Technology (chartered in 1861).The term technology rose to prominence in the 20th century in connection with the Second Industrial Revolution. The term's meanings changed in the early 20th century when American social scientists, beginning with Thorstein Veblen, translated ideas from the German concept of Technik into technology. In German and other European languages, a distinction exists between technik and technologie that is absent in English, which usually translates both terms as technology. By the 1930s, technology referred not only to the study of the industrial arts but to the industrial arts themselves.In 1937, the American sociologist Read Bain wrote that technology includes all tools, machines, utensils, weapons, instruments, housing, clothing, communicating and transporting devices and the skills by which we produce and use them. Bain's definition remains common among scholars today, especially social scientists.  Scientists and engineers usually prefer to define technology as applied science, rather than as the things that people make and use. More recently, scholars have borrowed from European philosophers of technique to extend the meaning of technology to various forms of instrumental reason, as in Foucault's work on technologies of the self (techniques de soi).\"\n",
    "\n",
    "# To take input from the user\n",
    "# my_str = input(\"Enter a string: \")\n",
    "\n",
    "# remove punctuation from the string\n",
    "no_punct4 = \"\"\n",
    "for char in my_str:\n",
    "   if char not in punctuations:\n",
    "       no_punct4 = no_punct4 + char\n",
    "\n",
    "# display the unpunctuated string\n",
    "print(no_punct4)\n",
    "len(no_punct4.split())"
   ]
  },
  {
   "cell_type": "code",
   "execution_count": 33,
   "metadata": {},
   "outputs": [
    {
     "name": "stdout",
     "output_type": "stream",
     "text": [
      "Dictionaries and scholars have offered a variety of definitions The MerriamWebster Learners Dictionary offers a definition of the term the use of science in industry engineering etc to invent useful things or to solve problems and a machine piece of equipment method etc that is created by technology Ursula Franklin in her 1989 Real World of Technology lecture gave another definition of the concept it is practice the way we do things around here The term is often used to imply a specific field of technology or to refer to high technology or just consumer electronics rather than technology as a whole Bernard Stiegler in Technics and Time 1 defines technology in two ways as the pursuit of life by means other than life and as organized inorganic matter Technology can be most broadly defined as the entities both material and immaterial created by the application of mental and physical effort in order to achieve some value In this usage technology refers to tools and machines that may be used to solve realworld problems It is a farreaching term that may include simple tools such as a crowbar or wooden spoon or more complex machines such as a space station or particle accelerator Tools and machines need not be material virtual technology such as computer software and business methods fall under this definition of technology W Brian Arthur defines technology in a similarly broad way as a means to fulfill a human purpose The word technology can also be used to refer to a collection of techniques In this context it is the current state of humanitys knowledge of how to combine resources to produce desired products to solve problems fulfill needs or satisfy wants it includes technical methods skills processes techniques tools and raw materials When combined with another term such as medical technology or space technology it refers to the state of the respective fields knowledge and tools Stateoftheart technology refers to the high technology available to humanity in any field\n"
     ]
    },
    {
     "data": {
      "text/plain": [
       "333"
      ]
     },
     "execution_count": 33,
     "metadata": {},
     "output_type": "execute_result"
    }
   ],
   "source": [
    "# define punctuation\n",
    "punctuations = '''!()-[]{};:'\"\\,<>./?@#$%^&*_~'''\n",
    "\n",
    "my_str = \"Dictionaries and scholars have offered a variety of definitions. The Merriam-Webster Learner's Dictionary offers a definition of the term: the use of science in industry, engineering, etc., to invent useful things or to solve problems and a machine, piece of equipment, method, etc., that is created by technology. Ursula Franklin, in her 1989 Real World of Technology lecture, gave another definition of the concept; it is practice, the way we do things around here. The term is often used to imply a specific field of technology, or to refer to high technology or just consumer electronics, rather than technology as a whole. Bernard Stiegler, in Technics and Time, 1, defines technology in two ways: as the pursuit of life by means other than life, and as organized inorganic matter. Technology can be most broadly defined as the entities, both material and immaterial, created by the application of mental and physical effort in order to achieve some value. In this usage, technology refers to tools and machines that may be used to solve real-world problems. It is a far-reaching term that may include simple tools, such as a crowbar or wooden spoon, or more complex machines, such as a space station or particle accelerator. Tools and machines need not be material; virtual technology, such as computer software and business methods, fall under this definition of technology. W. Brian Arthur defines technology in a similarly broad way as a means to fulfill a human purpose. The word technology can also be used to refer to a collection of techniques. In this context, it is the current state of humanity's knowledge of how to combine resources to produce desired products, to solve problems, fulfill needs, or satisfy wants; it includes technical methods, skills, processes, techniques, tools and raw materials. When combined with another term, such as medical technology or space technology, it refers to the state of the respective field's knowledge and tools. State-of-the-art technology refers to the high technology available to humanity in any field.\"\n",
    "\n",
    "# To take input from the user\n",
    "# my_str = input(\"Enter a string: \")\n",
    "\n",
    "# remove punctuation from the string\n",
    "no_punct5 = \"\"\n",
    "for char in my_str:\n",
    "   if char not in punctuations:\n",
    "       no_punct5 = no_punct5 + char\n",
    "\n",
    "# display the unpunctuated string\n",
    "print(no_punct5)\n",
    "len(no_punct5.split())"
   ]
  },
  {
   "cell_type": "code",
   "execution_count": 34,
   "metadata": {},
   "outputs": [
    {
     "name": "stdout",
     "output_type": "stream",
     "text": [
      "Technology can be viewed as an activity that forms or changes culture Additionally technology is the application of math science and the arts for the benefit of life as it is known A modern example is the rise of communication technology which has lessened barriers to human interaction and as a result has helped spawn new subcultures the rise of cyberculture has at its basis the development of the Internet and the computer Not all technology enhances culture in a creative way technology can also help facilitate political oppression and war via tools such as guns As a cultural activity technology predates both science and engineering each of which formalize some aspects of technological endeavor\n"
     ]
    },
    {
     "data": {
      "text/plain": [
       "115"
      ]
     },
     "execution_count": 34,
     "metadata": {},
     "output_type": "execute_result"
    }
   ],
   "source": [
    "# define punctuation\n",
    "punctuations = '''!()-[]{};:'\"\\,<>./?@#$%^&*_~'''\n",
    "\n",
    "my_str = \"Technology can be viewed as an activity that forms or changes culture. Additionally, technology is the application of math, science, and the arts for the benefit of life as it is known. A modern example is the rise of communication technology, which has lessened barriers to human interaction and as a result has helped spawn new subcultures; the rise of cyberculture has at its basis the development of the Internet and the computer. Not all technology enhances culture in a creative way; technology can also help facilitate political oppression and war via tools such as guns. As a cultural activity, technology predates both science and engineering, each of which formalize some aspects of technological endeavor.\"\n",
    "\n",
    "# To take input from the user\n",
    "# my_str = input(\"Enter a string: \")\n",
    "\n",
    "# remove punctuation from the string\n",
    "no_punct6 = \"\"\n",
    "for char in my_str:\n",
    "   if char not in punctuations:\n",
    "       no_punct6 = no_punct6 + char\n",
    "\n",
    "# display the unpunctuated string\n",
    "print(no_punct6)\n",
    "len(no_punct6.split())"
   ]
  },
  {
   "cell_type": "code",
   "execution_count": 35,
   "metadata": {},
   "outputs": [
    {
     "name": "stdout",
     "output_type": "stream",
     "text": [
      "On the somewhat skeptical side are certain philosophers like Herbert Marcuse and John Zerzan who believe that technological societies are inherently flawed They suggest that the inevitable result of such a society is to become evermore technological at the cost of freedom and psychological health Many such as the Luddites and prominent philosopher Martin Heidegger hold serious although not entirely deterministic reservations about technology see The Question Concerning Technology According to Heidegger scholars Hubert Dreyfus and Charles Spinosa Heidegger does not oppose technology He hopes to reveal the essence of technology in a way that in no way confines us to a stultified compulsion to push on blindly with technology or what comes to the same thing to rebel helplessly against it Indeed he promises that when we once open ourselves expressly to the essence of technology we find ourselves unexpectedly taken into a freeing claim What this entails is a more complex relationship to technology than either technooptimists or technopessimists tend to allow Some of the most poignant criticisms of technology are found in what are now considered to be dystopian literary classics such as Aldous Huxleys Brave New World Anthony Burgesss A Clockwork Orange and George Orwells Nineteen EightyFour In Goethes Faust Faust selling his soul to the devil in return for power over the physical world is also often interpreted as a metaphor for the adoption of industrial technology More recently modern works of science fiction such as those by Philip K Dick and William Gibson and films such as Blade Runner and Ghost in the Shell project highly ambivalent or cautionary attitudes toward technologys impact on human society and identity The late cultural critic Neil Postman distinguished toolusing societies from technological societies and from what he called technopolies societies that are dominated by the ideology of technological and scientific progress to the exclusion or harm of other cultural practices values and worldviewsDarin Barney has written about technologys impact on practices of citizenship and democratic culture suggesting that technology can be construed as 1 an object of political debate 2 a means or medium of discussion and 3 a setting for democratic deliberation and citizenship As a setting for democratic culture Barney suggests that technology tends to make ethical questions including the question of what a good life consists in nearly impossible because they already give an answer to the question a good life is one that includes the use of more and more technologyNikolas Kompridis has also written about the dangers of new technology such as genetic engineering nanotechnology synthetic biology and robotics He warns that these technologies introduce unprecedented new challenges to human beings including the possibility of the permanent alteration of our biological nature These concerns are shared by other philosophers scientists and public intellectuals who have written about similar issues eg Francis Fukuyama Jürgen Habermas William Joy and Michael SandelAnother prominent critic of technology is Hubert Dreyfus who has published books such as On the Internet and What Computers Still Cant Do A more infamous antitechnological treatise is Industrial Society and Its Future written by the Unabomber Ted Kaczynski and printed in several major newspapers and later books as part of an effort to end his bombing campaign of the technoindustrial infrastructure There are also subcultures that disapprove of some or most technology such as selfidentified offgridders\n"
     ]
    },
    {
     "data": {
      "text/plain": [
       "554"
      ]
     },
     "execution_count": 35,
     "metadata": {},
     "output_type": "execute_result"
    }
   ],
   "source": [
    "# define punctuation\n",
    "punctuations = '''!()-[]{};:'\"\\,<>./?@#$%^&*_~'''\n",
    "\n",
    "my_str = \"On the somewhat skeptical side are certain philosophers like Herbert Marcuse and John Zerzan, who believe that technological societies are inherently flawed. They suggest that the inevitable result of such a society is to become evermore technological at the cost of freedom and psychological health. Many, such as the Luddites and prominent philosopher Martin Heidegger, hold serious, although not entirely, deterministic reservations about technology (see The Question Concerning Technology). According to Heidegger scholars Hubert Dreyfus and Charles Spinosa, Heidegger does not oppose technology. He hopes to reveal the essence of technology in a way that 'in no way confines us to a stultified compulsion to push on blindly with technology or, what comes to the same thing, to rebel helplessly against it.' Indeed, he promises that 'when we once open ourselves expressly to the essence of technology, we find ourselves unexpectedly taken into a freeing claim.' What this entails is a more complex relationship to technology than either techno-optimists or techno-pessimists tend to allow. Some of the most poignant criticisms of technology are found in what are now considered to be dystopian literary classics such as Aldous Huxley's Brave New World, Anthony Burgess's A Clockwork Orange, and George Orwell's Nineteen Eighty-Four. In Goethe's Faust, Faust selling his soul to the devil in return for power over the physical world is also often interpreted as a metaphor for the adoption of industrial technology. More recently, modern works of science fiction such as those by Philip K. Dick and William Gibson and films such as Blade Runner and Ghost in the Shell project highly ambivalent or cautionary attitudes toward technology's impact on human society and identity. The late cultural critic Neil Postman distinguished tool-using societies from technological societies and from what he called technopolies, societies that are dominated by the ideology of technological and scientific progress to the exclusion or harm of other cultural practices, values, and world-views.Darin Barney has written about technology's impact on practices of citizenship and democratic culture, suggesting that technology can be construed as (1) an object of political debate, (2) a means or medium of discussion, and (3) a setting for democratic deliberation and citizenship. As a setting for democratic culture, Barney suggests that technology tends to make ethical questions, including the question of what a good life consists in, nearly impossible because they already give an answer to the question: a good life is one that includes the use of more and more technology.Nikolas Kompridis has also written about the dangers of new technology, such as genetic engineering, nanotechnology, synthetic biology, and robotics. He warns that these technologies introduce unprecedented new challenges to human beings, including the possibility of the permanent alteration of our biological nature. These concerns are shared by other philosophers, scientists and public intellectuals who have written about similar issues (e.g. Francis Fukuyama, Jürgen Habermas, William Joy, and Michael Sandel).Another prominent critic of technology is Hubert Dreyfus, who has published books such as On the Internet and What Computers Still Can't Do. A more infamous anti-technological treatise is Industrial Society and Its Future, written by the Unabomber Ted Kaczynski and printed in several major newspapers (and later books) as part of an effort to end his bombing campaign of the techno-industrial infrastructure. There are also subcultures that disapprove of some or most technology, such as self-identified off-gridders.\"\n",
    "# To take input from the user\n",
    "# my_str = input(\"Enter a string: \")\n",
    "\n",
    "# remove punctuation from the string\n",
    "no_punct7 = \"\"\n",
    "for char in my_str:\n",
    "   if char not in punctuations:\n",
    "       no_punct7 = no_punct7 + char\n",
    "\n",
    "# display the unpunctuated string\n",
    "print(no_punct7)\n",
    "len(no_punct7.split())"
   ]
  },
  {
   "cell_type": "code",
   "execution_count": 38,
   "metadata": {},
   "outputs": [
    {
     "name": "stdout",
     "output_type": "stream",
     "text": [
      "======\n",
      "Technology science of craft from Greek τέχνη techne art skill cunning of hand and λογία logia is the collection of techniques skills methods and processes used in the production of goods or services or in the accomplishment of objectives such as scientific investigation Technology can be the knowledge of techniques processes and the like or it can be embedded in machines to allow for operation without detailed knowledge of their workings Systems e g machines applying technology by taking an input changing it according to the systems use and then producing an outcome are referred to as technology systems or technological systems\n",
      "\n",
      "The simplest form of technology is the development and use of basic tools The prehistoric discovery of how to control fire and the later Neolithic Revolution increased the available sources of food and the invention of the wheel helped humans to travel in and control their environment Developments in historic times including the printing press the telephone and the Internet have lessened physical barriers to communication and allowed humans to interact freely on a global scale Technology has many effects It has helped develop more advanced economies including todays global economy and has allowed the rise of a leisure class Many technological processes produce unwanted byproducts known as pollution and deplete natural resources to the detriment of Earths environment Innovations have always influenced the values of a society and raised new questions in the ethics of technology Examples include the rise of the notion of efficiency in terms of human productivity and the challenges of bioethics\n",
      "\n",
      "Philosophical debates have arisen over the use of technology with disagreements over whether technology improves the human condition or worsens it NeoLuddism anarchoprimitivism and similar reactionary movements criticize the pervasiveness of technology arguing that it harms the environment and alienates people proponents of ideologies such as transhumanism and technoprogressivism view continued technological progress as beneficial to society and the human condition\n",
      "\n",
      "The use of the term technology has changed significantly over the last 200 years Before the 20th century the term was uncommon in English and it was used either to refer to the description or study of the useful arts or to allude to technical education as in the Massachusetts Institute of Technology chartered in 1861The term technology rose to prominence in the 20th century in connection with the Second Industrial Revolution The terms meanings changed in the early 20th century when American social scientists beginning with Thorstein Veblen translated ideas from the German concept of Technik into technology In German and other European languages a distinction exists between technik and technologie that is absent in English which usually translates both terms as technology By the 1930s technology referred not only to the study of the industrial arts but to the industrial arts themselvesIn 1937 the American sociologist Read Bain wrote that technology includes all tools machines utensils weapons instruments housing clothing communicating and transporting devices and the skills by which we produce and use them Bains definition remains common among scholars today especially social scientists  Scientists and engineers usually prefer to define technology as applied science rather than as the things that people make and use More recently scholars have borrowed from European philosophers of technique to extend the meaning of technology to various forms of instrumental reason as in Foucaults work on technologies of the self techniques de soi\n",
      "\n",
      "Dictionaries and scholars have offered a variety of definitions The MerriamWebster Learners Dictionary offers a definition of the term the use of science in industry engineering etc to invent useful things or to solve problems and a machine piece of equipment method etc that is created by technology Ursula Franklin in her 1989 Real World of Technology lecture gave another definition of the concept it is practice the way we do things around here The term is often used to imply a specific field of technology or to refer to high technology or just consumer electronics rather than technology as a whole Bernard Stiegler in Technics and Time 1 defines technology in two ways as the pursuit of life by means other than life and as organized inorganic matter Technology can be most broadly defined as the entities both material and immaterial created by the application of mental and physical effort in order to achieve some value In this usage technology refers to tools and machines that may be used to solve realworld problems It is a farreaching term that may include simple tools such as a crowbar or wooden spoon or more complex machines such as a space station or particle accelerator Tools and machines need not be material virtual technology such as computer software and business methods fall under this definition of technology W Brian Arthur defines technology in a similarly broad way as a means to fulfill a human purpose The word technology can also be used to refer to a collection of techniques In this context it is the current state of humanitys knowledge of how to combine resources to produce desired products to solve problems fulfill needs or satisfy wants it includes technical methods skills processes techniques tools and raw materials When combined with another term such as medical technology or space technology it refers to the state of the respective fields knowledge and tools Stateoftheart technology refers to the high technology available to humanity in any field\n",
      "======\n"
     ]
    },
    {
     "data": {
      "text/plain": [
       "895"
      ]
     },
     "execution_count": 38,
     "metadata": {},
     "output_type": "execute_result"
    }
   ],
   "source": [
    "punctuations = '''!()-[]{};:'\"\\,<>./?@#$%^&*_~'''\n",
    "\n",
    "new_string = \"======\" + '\\n'+ no_punct1 + '\\n' +'\\n' + no_punct2 + '\\n' +'\\n'+ no_punct3 + '\\n' +'\\n'+ no_punct4 + '\\n' +'\\n'+ no_punct5 + '\\n' + \"======\"\n",
    "\n",
    "# To take input from the user\n",
    "# my_str = input(\"Enter a string: \")\n",
    "\n",
    "# remove punctuation from the string\n",
    "no_punct = \"\"\n",
    "for char in new_string:\n",
    "   if char not in punctuations:\n",
    "       no_punct = no_punct + char\n",
    "\n",
    "# display the unpunctuated string\n",
    "print(no_punct)\n",
    "len(no_punct.split())"
   ]
  },
  {
   "cell_type": "code",
   "execution_count": null,
   "metadata": {},
   "outputs": [],
   "source": []
  }
 ],
 "metadata": {
  "kernelspec": {
   "display_name": "Python 3",
   "language": "python",
   "name": "python3"
  },
  "language_info": {
   "codemirror_mode": {
    "name": "ipython",
    "version": 3
   },
   "file_extension": ".py",
   "mimetype": "text/x-python",
   "name": "python",
   "nbconvert_exporter": "python",
   "pygments_lexer": "ipython3",
   "version": "3.7.3"
  }
 },
 "nbformat": 4,
 "nbformat_minor": 2
}
