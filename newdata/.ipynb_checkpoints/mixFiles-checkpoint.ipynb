{
 "cells": [
  {
   "cell_type": "code",
   "execution_count": 1,
   "metadata": {
    "colab": {
     "base_uri": "https://localhost:8080/",
     "height": 272
    },
    "colab_type": "code",
    "executionInfo": {
     "elapsed": 7119,
     "status": "ok",
     "timestamp": 1566102223048,
     "user": {
      "displayName": "Mark Dras",
      "photoUrl": "",
      "userId": "03500499357751624782"
     },
     "user_tz": -600
    },
    "id": "N87UqCUB90GG",
    "outputId": "067af937-fd7b-454b-b2c5-05d918f6cea3"
   },
   "outputs": [
    {
     "name": "stdout",
     "output_type": "stream",
     "text": [
      "Requirement already satisfied: wikipedia in /home/sukhdeep/.local/lib/python3.7/site-packages (1.4.0)\n",
      "Requirement already satisfied: beautifulsoup4 in /home/sukhdeep/.local/lib/python3.7/site-packages (from wikipedia) (4.8.0)\n",
      "Requirement already satisfied: requests<3.0.0,>=2.0.0 in /home/sukhdeep/anaconda3/lib/python3.7/site-packages (from wikipedia) (2.22.0)\n",
      "Requirement already satisfied: soupsieve>=1.2 in /home/sukhdeep/.local/lib/python3.7/site-packages (from beautifulsoup4->wikipedia) (1.9.3)\n",
      "Requirement already satisfied: urllib3!=1.25.0,!=1.25.1,<1.26,>=1.21.1 in /home/sukhdeep/anaconda3/lib/python3.7/site-packages (from requests<3.0.0,>=2.0.0->wikipedia) (1.24.2)\n",
      "Requirement already satisfied: chardet<3.1.0,>=3.0.2 in /home/sukhdeep/anaconda3/lib/python3.7/site-packages (from requests<3.0.0,>=2.0.0->wikipedia) (3.0.4)\n",
      "Requirement already satisfied: certifi>=2017.4.17 in /home/sukhdeep/anaconda3/lib/python3.7/site-packages (from requests<3.0.0,>=2.0.0->wikipedia) (2019.6.16)\n",
      "Requirement already satisfied: idna<2.9,>=2.5 in /home/sukhdeep/anaconda3/lib/python3.7/site-packages (from requests<3.0.0,>=2.0.0->wikipedia) (2.8)\n"
     ]
    }
   ],
   "source": [
    "!pip install wikipedia"
   ]
  },
  {
   "cell_type": "code",
   "execution_count": 2,
   "metadata": {
    "colab": {},
    "colab_type": "code",
    "id": "1wybK_Gl9mqj"
   },
   "outputs": [],
   "source": [
    "import wikipedia\n",
    "import re\n",
    "import pandas as pd"
   ]
  },
  {
   "cell_type": "markdown",
   "metadata": {},
   "source": [
    "### Topic 1 is sports, and Topic 2 is Computer programming"
   ]
  },
  {
   "cell_type": "markdown",
   "metadata": {},
   "source": [
    "Here we search the wikipedia page for the topic name and also fetch all of the links in a list to create out document"
   ]
  },
  {
   "cell_type": "code",
   "execution_count": 3,
   "metadata": {
    "colab": {
     "base_uri": "https://localhost:8080/",
     "height": 1000
    },
    "colab_type": "code",
    "executionInfo": {
     "elapsed": 1217,
     "status": "ok",
     "timestamp": 1566102644106,
     "user": {
      "displayName": "Mark Dras",
      "photoUrl": "",
      "userId": "03500499357751624782"
     },
     "user_tz": -600
    },
    "id": "1GjnOHsD_dXT",
    "outputId": "abee24dd-ebeb-4713-af51-b450763f0666"
   },
   "outputs": [],
   "source": [
    "sport=wikipedia.page(\"Sport\").content\n",
    "links=wikipedia.page(\"Sport\").links"
   ]
  },
  {
   "cell_type": "code",
   "execution_count": 4,
   "metadata": {},
   "outputs": [],
   "source": [
    "pedu=wikipedia.page(\"Computer programming\").content\n",
    "plinks=wikipedia.page(\"Computer programming\").links"
   ]
  },
  {
   "cell_type": "markdown",
   "metadata": {},
   "source": [
    "Here we iterate over the list of topic links fetched for Sports and Computer programming respectively. Aim is concatenate the content from multiple pages into a single source to reach the desired word count of 50000 words."
   ]
  },
  {
   "cell_type": "code",
   "execution_count": 5,
   "metadata": {
    "colab": {
     "base_uri": "https://localhost:8080/",
     "height": 34
    },
    "colab_type": "code",
    "executionInfo": {
     "elapsed": 729,
     "status": "ok",
     "timestamp": 1566102677774,
     "user": {
      "displayName": "Mark Dras",
      "photoUrl": "",
      "userId": "03500499357751624782"
     },
     "user_tz": -600
    },
    "id": "5MVvXwyg_lkW",
    "outputId": "578d560d-502c-4669-a1f4-acd70c37dd27"
   },
   "outputs": [],
   "source": [
    "for i in links[:10]:\n",
    "  try:\n",
    "    c = wikipedia.page(i).content\n",
    "    sport = sport + c\n",
    "  except:\n",
    "    pass"
   ]
  },
  {
   "cell_type": "code",
   "execution_count": 6,
   "metadata": {
    "colab": {
     "base_uri": "https://localhost:8080/",
     "height": 54
    },
    "colab_type": "code",
    "executionInfo": {
     "elapsed": 1002,
     "status": "ok",
     "timestamp": 1566102692667,
     "user": {
      "displayName": "Mark Dras",
      "photoUrl": "",
      "userId": "03500499357751624782"
     },
     "user_tz": -600
    },
    "id": "ORfbVXQ9_pUy",
    "outputId": "a19d0729-4b6f-4503-bdbb-7f05e0cbc054"
   },
   "outputs": [],
   "source": [
    "for i in plinks[:20]:\n",
    "  try:\n",
    "    d = wikipedia.page(i).content\n",
    "    pedu = pedu + d\n",
    "  except:\n",
    "    pass\n"
   ]
  },
  {
   "cell_type": "markdown",
   "metadata": {},
   "source": [
    "Here I am replacing the wikipedia segments into the standard choi notation, how this regex works:\n",
    "\n",
    "- We first replace all wikipedia segments with === sign\n",
    "- Then we proceed to replace all the wikipedia segments with == \n",
    "\n",
    "Key finding and tweaks: Some of the wikipedia segments have multiple words within == or  === signs in order to accomodate for that we search for more than one occurence of any character as denoted by *.+* sign"
   ]
  },
  {
   "cell_type": "code",
   "execution_count": 7,
   "metadata": {
    "colab": {
     "base_uri": "https://localhost:8080/",
     "height": 34
    },
    "colab_type": "code",
    "executionInfo": {
     "elapsed": 756,
     "status": "ok",
     "timestamp": 1566102707935,
     "user": {
      "displayName": "Mark Dras",
      "photoUrl": "",
      "userId": "03500499357751624782"
     },
     "user_tz": -600
    },
    "id": "gNp_Gxqp_tMm",
    "outputId": "aec37025-3ae4-4381-f93f-3f8e59b38bfc"
   },
   "outputs": [],
   "source": [
    "sport = re.sub(r\"(===\\s(.+)\\s===)\", \"==========\", sport)\n",
    "sport = re.sub(r\"(==\\s(.+)\\s==)\", \"==========\", sport)"
   ]
  },
  {
   "cell_type": "code",
   "execution_count": 8,
   "metadata": {
    "colab": {
     "base_uri": "https://localhost:8080/",
     "height": 54
    },
    "colab_type": "code",
    "executionInfo": {
     "elapsed": 784,
     "status": "ok",
     "timestamp": 1566102723430,
     "user": {
      "displayName": "Mark Dras",
      "photoUrl": "",
      "userId": "03500499357751624782"
     },
     "user_tz": -600
    },
    "id": "4dOadgKK_w4G",
    "outputId": "79181365-11da-4845-dd57-3561946913a0"
   },
   "outputs": [],
   "source": [
    "pedu = re.sub(r\"(===\\s(.+)\\s===)\", \"==========\", pedu)\n",
    "pedu = re.sub(r\"(==\\s(.+)\\s==)\", \"==========\", pedu)"
   ]
  },
  {
   "cell_type": "markdown",
   "metadata": {},
   "source": [
    "Function to remove any punctuations from text"
   ]
  },
  {
   "cell_type": "code",
   "execution_count": 34,
   "metadata": {
    "colab": {
     "base_uri": "https://localhost:8080/",
     "height": 54
    },
    "colab_type": "code",
    "executionInfo": {
     "elapsed": 1051,
     "status": "ok",
     "timestamp": 1566102741681,
     "user": {
      "displayName": "Mark Dras",
      "photoUrl": "",
      "userId": "03500499357751624782"
     },
     "user_tz": -600
    },
    "id": "E4GvGyJS_1Vz",
    "outputId": "618dce70-7712-4fdc-dbe0-d70c5a583428"
   },
   "outputs": [],
   "source": [
    "# define punctuation remover\n",
    "\n",
    "def punctuation_remover(my_str):\n",
    "\n",
    "    punctuations = '''!()-[]{};:'\"\\,<>./?@#$%^&*_~'''\n",
    "\n",
    "    # remove punctuation from the string\n",
    "    no_punct1 = \"\"\n",
    "    for char in my_str:\n",
    "       if char not in punctuations:\n",
    "           no_punct1 = no_punct1 + char\n",
    "\n",
    "\n",
    "    return no_punct1"
   ]
  },
  {
   "cell_type": "code",
   "execution_count": 10,
   "metadata": {
    "colab": {
     "base_uri": "https://localhost:8080/",
     "height": 54
    },
    "colab_type": "code",
    "executionInfo": {
     "elapsed": 1005,
     "status": "ok",
     "timestamp": 1566102762704,
     "user": {
      "displayName": "Mark Dras",
      "photoUrl": "",
      "userId": "03500499357751624782"
     },
     "user_tz": -600
    },
    "id": "Fdr4-BFS_6gn",
    "outputId": "2c3aeddd-c5bd-4af2-9cb0-e37a2cfb78fc"
   },
   "outputs": [],
   "source": [
    "sport = punctuation_remover(sport)\n",
    "pedu=punctuation_remover(pedu)"
   ]
  },
  {
   "cell_type": "code",
   "execution_count": 28,
   "metadata": {
    "colab": {
     "base_uri": "https://localhost:8080/",
     "height": 34
    },
    "colab_type": "code",
    "executionInfo": {
     "elapsed": 990,
     "status": "ok",
     "timestamp": 1566102790978,
     "user": {
      "displayName": "Mark Dras",
      "photoUrl": "",
      "userId": "03500499357751624782"
     },
     "user_tz": -600
    },
    "id": "zEb8ImbpABhU",
    "outputId": "53b6fbbb-1adc-4b69-cc83-cf362de9e006"
   },
   "outputs": [],
   "source": [
    "with open('programming.txt','w') as f:\n",
    "  f.write(pedu)"
   ]
  },
  {
   "cell_type": "code",
   "execution_count": 29,
   "metadata": {
    "colab": {
     "base_uri": "https://localhost:8080/",
     "height": 34
    },
    "colab_type": "code",
    "executionInfo": {
     "elapsed": 1385,
     "status": "ok",
     "timestamp": 1566102830503,
     "user": {
      "displayName": "Mark Dras",
      "photoUrl": "",
      "userId": "03500499357751624782"
     },
     "user_tz": -600
    },
    "id": "AamSq1h4AK9n",
    "outputId": "764bd9be-a14a-43a0-b1bb-03361763c189"
   },
   "outputs": [],
   "source": [
    "with open('sport.txt','w') as f:\n",
    "  f.write(sport)"
   ]
  },
  {
   "cell_type": "markdown",
   "metadata": {},
   "source": [
    "Creating a data frame for our text files"
   ]
  },
  {
   "cell_type": "code",
   "execution_count": 13,
   "metadata": {
    "colab": {
     "base_uri": "https://localhost:8080/",
     "height": 1000
    },
    "colab_type": "code",
    "executionInfo": {
     "elapsed": 4816,
     "status": "ok",
     "timestamp": 1566102861749,
     "user": {
      "displayName": "Mark Dras",
      "photoUrl": "",
      "userId": "03500499357751624782"
     },
     "user_tz": -600
    },
    "id": "BytKwxiXARnx",
    "outputId": "8871d717-a55b-4fae-f107-f5dc0a11486d"
   },
   "outputs": [],
   "source": [
    "sport2 = sport.split(\"==========\")\n",
    "\n",
    "df1  = pd.DataFrame(sport2)"
   ]
  },
  {
   "cell_type": "code",
   "execution_count": 14,
   "metadata": {},
   "outputs": [],
   "source": [
    "pedu2 = pedu.split(\"==========\")\n",
    "\n",
    "df2  = pd.DataFrame(pedu2)"
   ]
  },
  {
   "cell_type": "markdown",
   "metadata": {},
   "source": [
    "Removing unwanted newline characters from the dataframes"
   ]
  },
  {
   "cell_type": "code",
   "execution_count": 15,
   "metadata": {},
   "outputs": [],
   "source": [
    "df1 = df1[df1[0]!='\\n\\n\\n']\n",
    "df2 = df2[df2[0]!='\\n\\n\\n']"
   ]
  },
  {
   "cell_type": "code",
   "execution_count": 33,
   "metadata": {},
   "outputs": [
    {
     "data": {
      "text/html": [
       "<div>\n",
       "<style scoped>\n",
       "    .dataframe tbody tr th:only-of-type {\n",
       "        vertical-align: middle;\n",
       "    }\n",
       "\n",
       "    .dataframe tbody tr th {\n",
       "        vertical-align: top;\n",
       "    }\n",
       "\n",
       "    .dataframe thead th {\n",
       "        text-align: right;\n",
       "    }\n",
       "</style>\n",
       "<table border=\"1\" class=\"dataframe\">\n",
       "  <thead>\n",
       "    <tr style=\"text-align: right;\">\n",
       "      <th></th>\n",
       "      <th>0</th>\n",
       "    </tr>\n",
       "  </thead>\n",
       "  <tbody>\n",
       "    <tr>\n",
       "      <th>0</th>\n",
       "      <td>Sport includes all forms of competitive physic...</td>\n",
       "    </tr>\n",
       "    <tr>\n",
       "      <th>2</th>\n",
       "      <td>\\nThe word sport comes from the Old French des...</td>\n",
       "    </tr>\n",
       "    <tr>\n",
       "      <th>3</th>\n",
       "      <td>\\nThe singular term sport is used in most Engl...</td>\n",
       "    </tr>\n",
       "    <tr>\n",
       "      <th>4</th>\n",
       "      <td>\\n\\nThe precise definition of what separates a...</td>\n",
       "    </tr>\n",
       "    <tr>\n",
       "      <th>5</th>\n",
       "      <td>\\nThere are opposing views on the necessity of...</td>\n",
       "    </tr>\n",
       "  </tbody>\n",
       "</table>\n",
       "</div>"
      ],
      "text/plain": [
       "                                                   0\n",
       "0  Sport includes all forms of competitive physic...\n",
       "2  \\nThe word sport comes from the Old French des...\n",
       "3  \\nThe singular term sport is used in most Engl...\n",
       "4  \\n\\nThe precise definition of what separates a...\n",
       "5  \\nThere are opposing views on the necessity of..."
      ]
     },
     "execution_count": 33,
     "metadata": {},
     "output_type": "execute_result"
    }
   ],
   "source": [
    "df1.head()"
   ]
  },
  {
   "cell_type": "code",
   "execution_count": 32,
   "metadata": {},
   "outputs": [
    {
     "data": {
      "text/html": [
       "<div>\n",
       "<style scoped>\n",
       "    .dataframe tbody tr th:only-of-type {\n",
       "        vertical-align: middle;\n",
       "    }\n",
       "\n",
       "    .dataframe tbody tr th {\n",
       "        vertical-align: top;\n",
       "    }\n",
       "\n",
       "    .dataframe thead th {\n",
       "        text-align: right;\n",
       "    }\n",
       "</style>\n",
       "<table border=\"1\" class=\"dataframe\">\n",
       "  <thead>\n",
       "    <tr style=\"text-align: right;\">\n",
       "      <th></th>\n",
       "      <th>0</th>\n",
       "    </tr>\n",
       "  </thead>\n",
       "  <tbody>\n",
       "    <tr>\n",
       "      <th>0</th>\n",
       "      <td>Computer programming is the process of designi...</td>\n",
       "    </tr>\n",
       "    <tr>\n",
       "      <th>1</th>\n",
       "      <td>\\n\\nProgrammable devices have existed at least...</td>\n",
       "    </tr>\n",
       "    <tr>\n",
       "      <th>3</th>\n",
       "      <td>\\nWhatever the approach to development may be ...</td>\n",
       "    </tr>\n",
       "    <tr>\n",
       "      <th>4</th>\n",
       "      <td>\\nIn computer programming readability refers t...</td>\n",
       "    </tr>\n",
       "    <tr>\n",
       "      <th>5</th>\n",
       "      <td>\\nThe academic field and the engineering pract...</td>\n",
       "    </tr>\n",
       "  </tbody>\n",
       "</table>\n",
       "</div>"
      ],
      "text/plain": [
       "                                                   0\n",
       "0  Computer programming is the process of designi...\n",
       "1  \\n\\nProgrammable devices have existed at least...\n",
       "3  \\nWhatever the approach to development may be ...\n",
       "4  \\nIn computer programming readability refers t...\n",
       "5  \\nThe academic field and the engineering pract..."
      ]
     },
     "execution_count": 32,
     "metadata": {},
     "output_type": "execute_result"
    }
   ],
   "source": [
    "df2.head()"
   ]
  },
  {
   "cell_type": "markdown",
   "metadata": {},
   "source": [
    "Mixing the segments of both the data frames in the form doc1_seg1 doc2_seg1 doc1_seg2 doc2_seg2"
   ]
  },
  {
   "cell_type": "code",
   "execution_count": 25,
   "metadata": {},
   "outputs": [],
   "source": [
    "mylist=\" \"\n",
    "\n",
    "for i in range(200):\n",
    "    \n",
    "    try:\n",
    "        mylist=mylist+(df1[0][i]+\"\\n==========\\n\")\n",
    "    except:\n",
    "        pass\n",
    "    \n",
    "    try:\n",
    "        \n",
    "        mylist=mylist+(df2[0][i]+\"\\n==========\\n\")\n",
    "        \n",
    "    except:\n",
    "        \n",
    "        pass\n",
    "    "
   ]
  },
  {
   "cell_type": "markdown",
   "metadata": {},
   "source": [
    "Checking to see if we have satisfied the required words"
   ]
  },
  {
   "cell_type": "code",
   "execution_count": 31,
   "metadata": {},
   "outputs": [
    {
     "data": {
      "text/plain": [
       "53671"
      ]
     },
     "execution_count": 31,
     "metadata": {},
     "output_type": "execute_result"
    }
   ],
   "source": [
    "# print(mylist)\n",
    "\n",
    "len(mylist.split(\" \"))"
   ]
  },
  {
   "cell_type": "markdown",
   "metadata": {},
   "source": [
    "Saving the composite text file "
   ]
  },
  {
   "cell_type": "code",
   "execution_count": 27,
   "metadata": {},
   "outputs": [],
   "source": [
    "with open('composite.txt','w') as f:\n",
    "  f.write(mylist)"
   ]
  }
 ],
 "metadata": {
  "colab": {
   "name": "Untitled0.ipynb",
   "provenance": [],
   "version": "0.3.2"
  },
  "kernelspec": {
   "display_name": "Python 3",
   "language": "python",
   "name": "python3"
  },
  "language_info": {
   "codemirror_mode": {
    "name": "ipython",
    "version": 3
   },
   "file_extension": ".py",
   "mimetype": "text/x-python",
   "name": "python",
   "nbconvert_exporter": "python",
   "pygments_lexer": "ipython3",
   "version": "3.7.3"
  }
 },
 "nbformat": 4,
 "nbformat_minor": 1
}
